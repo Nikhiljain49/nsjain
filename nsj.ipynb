{
  "nbformat": 4,
  "nbformat_minor": 0,
  "metadata": {
    "colab": {
      "provenance": [],
      "authorship_tag": "ABX9TyOC7Jkx1xnx3b+4aF0QSOkW",
      "include_colab_link": true
    },
    "kernelspec": {
      "name": "python3",
      "display_name": "Python 3"
    },
    "language_info": {
      "name": "python"
    }
  },
  "cells": [
    {
      "cell_type": "markdown",
      "metadata": {
        "id": "view-in-github",
        "colab_type": "text"
      },
      "source": [
        "<a href=\"https://colab.research.google.com/github/Nikhiljain49/nsjain/blob/main/nsj.ipynb\" target=\"_parent\"><img src=\"https://colab.research.google.com/assets/colab-badge.svg\" alt=\"Open In Colab\"/></a>"
      ]
    },
    {
      "cell_type": "code",
      "execution_count": 1,
      "metadata": {
        "id": "vQcV8i4C8dqL",
        "outputId": "ebf15d10-a792-48b2-ed7b-b36319a24009",
        "colab": {
          "base_uri": "https://localhost:8080/"
        }
      },
      "outputs": [
        {
          "output_type": "stream",
          "name": "stdout",
          "text": [
            "hello world\n"
          ]
        }
      ],
      "source": [
        "print (\"hello world\")     \n"
      ]
    },
    {
      "cell_type": "code",
      "source": [
        "w = [[1,3,6],[3,7,5],[1,2],[0]]\n",
        "m = map(sum,w)\n",
        "list(m)"
      ],
      "metadata": {
        "id": "WWAwMxzmAXqP",
        "outputId": "8dedbf6a-01c6-4283-9baf-2a1b2f8a2c05",
        "colab": {
          "base_uri": "https://localhost:8080/"
        }
      },
      "execution_count": 4,
      "outputs": [
        {
          "output_type": "execute_result",
          "data": {
            "text/plain": [
              "[10, 15, 3, 0]"
            ]
          },
          "metadata": {},
          "execution_count": 4
        }
      ]
    },
    {
      "cell_type": "code",
      "source": [],
      "metadata": {
        "id": "9AVIj9BJAsKe"
      },
      "execution_count": null,
      "outputs": []
    }
  ]
}